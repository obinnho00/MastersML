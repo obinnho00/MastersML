{
 "cells": [
  {
   "cell_type": "markdown",
   "id": "3c3c82b7-7612-4da0-bb27-8bf2dd9e1722",
   "metadata": {},
   "source": [
    "# Quation 1"
   ]
  },
  {
   "cell_type": "markdown",
   "id": "053d972f-df01-4e27-9c0d-f6575684bba8",
   "metadata": {},
   "source": [
    "Model 3\n",
    "\n",
    "    Among all the selected models, it is clear that Model 3 is overfitting. One reason for this is that the model tries to fit every data point, regardless of the weight and differences.\n",
    "    Another reason I believe this model is overfitting could be due to the small size of the dataset and the presence of unclean data, which contains a lot of noise.\n",
    "    Additional factors  i think might be contributing to overfitting include:\n",
    "    \n",
    "    High Model Complexity\n",
    "    Lack of Regularization\n",
    "    Insufficient Cross-Validation\n",
    "    Excessive Training\n",
    "\n",
    "Model 4\n",
    "\n",
    "    In my opinion, Model 4 is underfitting. The reason for this is that, according to the image, Model 4 tends to have high bias, which makes it very difficult to learn the training dataset. This will inevitably lead to poor performance on both the training and testing data. For example, when I increase the dataset size, the inaccuracy will increase as well. So, in full scope, based on the PDF image, I can say that Model 4 has high bias and low variance.\n",
    "    \n",
    "\n",
    "Model 2 \n",
    "\n",
    "    Model 2 exhibits both low bias and low variance, making it well-suited for accurate predictions on new and unseen datasets. When introduced to a new dataset, it can generalize effectively, providing better predictive performance on previously unseen data."
   ]
  },
  {
   "cell_type": "markdown",
   "id": "2b6d3678-4edf-4a9f-853f-00ef1431f327",
   "metadata": {},
   "source": [
    "# Quation 2"
   ]
  },
  {
   "cell_type": "code",
   "execution_count": 33,
   "id": "655bade3-dbfb-4308-98a8-65137b03165a",
   "metadata": {},
   "outputs": [],
   "source": [
    "import pandas as pd \n",
    "import seaborn as sns\n",
    "import numpy as np\n",
    "import matplotlib.pyplot as plt"
   ]
  },
  {
   "cell_type": "code",
   "execution_count": 34,
   "id": "5c827f13-63bc-4bf0-a6a9-95ebb49febe4",
   "metadata": {},
   "outputs": [
    {
     "name": "stdout",
     "output_type": "stream",
     "text": [
      "   ID    Occupation  Age  Loan Salary Ratio  Outcome\n",
      "0   1    industrial   34               2.96   repaid\n",
      "1   2  professional   41               4.64  default\n",
      "2   3  professional   36               3.22  default\n",
      "3   4  professional   41               3.11  default\n",
      "4   5    industrial   48               3.80  default\n",
      "5   6    industrial   61               2.52   repaid\n",
      "6   7  professional   37               1.50   repaid\n",
      "7   8  professional   40               1.93   repaid\n",
      "8   9    industrial   33               5.25  default\n",
      "9  10    industrial   32               4.15  default\n"
     ]
    }
   ],
   "source": [
    "dataset = pd.read_csv(\"m1data.csv\")\n",
    "print(dataset)"
   ]
  },
  {
   "cell_type": "code",
   "execution_count": 35,
   "id": "4d952046-7216-46c8-bc49-4fe385467554",
   "metadata": {},
   "outputs": [
    {
     "name": "stdout",
     "output_type": "stream",
     "text": [
      "   Loan_Salary_Ratio  Outcome\n",
      "0               2.96   repaid\n",
      "1               4.64  default\n",
      "2               3.22  default\n",
      "3               3.11  default\n",
      "4               3.80  default\n",
      "5               2.52   repaid\n",
      "6               1.50   repaid\n",
      "7               1.93   repaid\n",
      "8               5.25  default\n",
      "9               4.15  default\n"
     ]
    }
   ],
   "source": [
    "# Rename column to remove spaces\n",
    "dataset1 = dataset.rename(columns={'Loan Salary Ratio': 'Loan_Salary_Ratio'})\n",
    "# select regular column\n",
    "main_data = dataset1[[\"Loan_Salary_Ratio\", \"Outcome\"]]\n",
    "#main_data.corr()\n",
    "print(main_data)\n"
   ]
  },
  {
   "cell_type": "code",
   "execution_count": 62,
   "id": "51e0cb9b-9cb1-4774-97fc-30643688a13f",
   "metadata": {},
   "outputs": [
    {
     "name": "stdout",
     "output_type": "stream",
     "text": [
      "Loan Salary Ratio: 2.58, Outcome: repay\n"
     ]
    }
   ],
   "source": [
    "import random\n",
    "# Generate a random number between 0 and 10 for the loan-salary ratio\n",
    "loan_salary_Ration = random.uniform(0, 4)  # random loan-salary ratio\n",
    "# The threshold for determining default or repayment\n",
    "ratio = 3\n",
    "# Check if the loan-salary ratio is greater than or equal to the ratio threshold\n",
    "if loan_salary_Ration >= ratio:\n",
    "    outcome = \"default\"\n",
    "else:\n",
    "    outcome = \"repay\"\n",
    "# Display the result\n",
    "print(f\"Loan Salary Ratio: {loan_salary_Ration:.2f}, Outcome: {outcome}\")\n"
   ]
  },
  {
   "cell_type": "code",
   "execution_count": 53,
   "id": "9f6dd914-738f-4c9b-9db3-cba87e7b92fa",
   "metadata": {},
   "outputs": [
    {
     "name": "stdout",
     "output_type": "stream",
     "text": [
      "   Loan_Salary_Ratio  Outcome\n",
      "1               4.64  default\n",
      "2               3.22  default\n",
      "3               3.11  default\n",
      "4               3.80  default\n",
      "8               5.25  default\n",
      "9               4.15  default\n"
     ]
    }
   ],
   "source": [
    "# anylazing the model and data\n",
    "filter_rows = main_data[main_data[\"Loan_Salary_Ratio\"] >= 3] if True else False\n",
    "print(filter_rows)"
   ]
  },
  {
   "cell_type": "code",
   "execution_count": 54,
   "id": "5efcca8d-f32c-42b1-a96e-3bcb659705f4",
   "metadata": {},
   "outputs": [
    {
     "name": "stdout",
     "output_type": "stream",
     "text": [
      "   Loan_Salary_Ratio Outcome\n",
      "0               2.96  repaid\n",
      "5               2.52  repaid\n",
      "6               1.50  repaid\n",
      "7               1.93  repaid\n"
     ]
    }
   ],
   "source": [
    "filter_rows2 = main_data[main_data[\"Loan_Salary_Ratio\"] <= 3] if True else False\n",
    "print(filter_rows2)"
   ]
  },
  {
   "cell_type": "markdown",
   "id": "98825944-0bbb-4c0f-b23f-857e5e5e3434",
   "metadata": {},
   "source": [
    "# Model 2 Analysis Result\n",
    "\n",
    " A model is considered consistent when it can consistently predict the output correctly. In this case, after analyzing the input data and the output results, we can confidently say that the model is correct and consistent based on the data shown above.\n",
    "Two Principles:\n",
    "\n",
    "    Feature Design: One of the feature designs used here was the Loan-Salary Ratio, which was used to make the correct prediction to determine the likelihood of paying back the loan.\n",
    "\n",
    "    Feature Selection: Another principle was choosing which feature was best suited based on the relevant dataset for making this prediction. We only used the Loan-Salary Ratio and dropped the rest of the dataset because the Loan-Salary Ratio is sufficient for making this prediction while maintaining the consistency of the model."
   ]
  },
  {
   "cell_type": "markdown",
   "id": "b760ad4a-4bb1-432a-8e6a-21aea6895b67",
   "metadata": {},
   "source": [
    "# Question 3 \n",
    "    consistent Prediction Model"
   ]
  },
  {
   "cell_type": "code",
   "execution_count": 67,
   "id": "4c7ca4b3-4a02-44ff-a273-ec050ba7c91e",
   "metadata": {
    "scrolled": true
   },
   "outputs": [
    {
     "name": "stdout",
     "output_type": "stream",
     "text": [
      "   ID  Amount  Salary  Loan-Salary Ratio  Age    Occupation      House Type  \\\n",
      "0   1  245100   66400               3.69   44    industrial       farm  stb   \n",
      "1   2   90600   75300               1.20   41    industrial       farm  stb   \n",
      "2   3  195600   52100               3.75   37    industrial       farm  ftb   \n",
      "3   4  157800   67600               2.33   44    industrial  apartment  ftb   \n",
      "4   5  150800   35800               4.21   39  professional  apartment  stb   \n",
      "\n",
      "   Outcome  \n",
      "0   repaid  \n",
      "1   repaid  \n",
      "2  default  \n",
      "3  default  \n",
      "4  default  \n",
      "<class 'pandas.core.frame.DataFrame'>\n",
      "RangeIndex: 25 entries, 0 to 24\n",
      "Data columns (total 9 columns):\n",
      " #   Column             Non-Null Count  Dtype  \n",
      "---  ------             --------------  -----  \n",
      " 0   ID                 25 non-null     int64  \n",
      " 1   Amount             25 non-null     int64  \n",
      " 2   Salary             25 non-null     int64  \n",
      " 3   Loan-Salary Ratio  25 non-null     float64\n",
      " 4   Age                25 non-null     int64  \n",
      " 5   Occupation         25 non-null     object \n",
      " 6   House              25 non-null     object \n",
      " 7   Type               25 non-null     object \n",
      " 8   Outcome            25 non-null     object \n",
      "dtypes: float64(1), int64(4), object(4)\n",
      "memory usage: 1.9+ KB\n",
      "None\n"
     ]
    }
   ],
   "source": [
    "model2 = pd.read_csv(\"M2data.csv\")\n",
    "print(model2.head(5))\n",
    "print(model2.info())"
   ]
  },
  {
   "cell_type": "code",
   "execution_count": 91,
   "id": "b7e4bf0c-a375-4eb2-a52a-6f8f16ae47e1",
   "metadata": {},
   "outputs": [
    {
     "name": "stdout",
     "output_type": "stream",
     "text": [
      "   Loan_Salary_Ratio  Outcome\n",
      "0               3.69   repaid\n",
      "1               1.20   repaid\n",
      "2               3.75  default\n",
      "3               2.33  default\n",
      "4               4.21  default\n",
      "5               2.94  default\n",
      "6               2.64   repaid\n",
      "7               2.77   repaid\n",
      "8               1.33   repaid\n",
      "9               3.78  default\n",
      "tail\n",
      "    Loan_Salary_Ratio  Outcome\n",
      "20               3.15   repaid\n",
      "21               1.42   repaid\n",
      "22               4.22  default\n",
      "23               4.39  default\n",
      "24               2.55  default\n"
     ]
    }
   ],
   "source": [
    "# anylazing the model and data\n",
    "feature = model2.rename(columns={'Loan-Salary Ratio': 'Loan_Salary_Ratio'})\n",
    "feature_selection = feature[[\"Loan_Salary_Ratio\", \"Outcome\"]]\n",
    "print(feature_selection.head(10))\n",
    "print(\"tail\")\n",
    "print(feature_selection.tail())\n",
    "\n"
   ]
  },
  {
   "cell_type": "code",
   "execution_count": 92,
   "id": "9994c6dc-40ad-4f2d-9784-ae2ca71937f3",
   "metadata": {},
   "outputs": [
    {
     "name": "stdout",
     "output_type": "stream",
     "text": [
      "    Loan_Salary_Ratio Outcome\n",
      "1                1.20  repaid\n",
      "8                1.33  repaid\n",
      "21               1.42  repaid\n"
     ]
    }
   ],
   "source": [
    "# TestCase 1: All loans where Loan-Salary Ratio is less than or equal to 1.5\n",
    "Testcase1 = feature_selection = feature[feature[\"Loan_Salary_Ratio\"] <= 1.5][[\"Loan_Salary_Ratio\", \"Outcome\"]] \n",
    "print(Testcase1)\n"
   ]
  },
  {
   "cell_type": "code",
   "execution_count": 93,
   "id": "0e7ea049-52be-47a9-a84e-5caba8b5e20e",
   "metadata": {},
   "outputs": [
    {
     "name": "stdout",
     "output_type": "stream",
     "text": [
      "    Loan_Salary_Ratio  Outcome\n",
      "4                4.21  default\n",
      "19               8.80  default\n",
      "22               4.22  default\n",
      "23               4.39  default\n"
     ]
    }
   ],
   "source": [
    "# TestCase 2: All loans where Loan-Salary Ratio is greater than or equal to 4\n",
    "Testcase2 = feature_selection = feature[feature[\"Loan_Salary_Ratio\"] >= 4][[\"Loan_Salary_Ratio\", \"Outcome\"]] \n",
    "print(Testcase2)\n"
   ]
  },
  {
   "cell_type": "code",
   "execution_count": 99,
   "id": "3194ea27-e739-4590-9d49-6f44d9b122fc",
   "metadata": {},
   "outputs": [
    {
     "name": "stdout",
     "output_type": "stream",
     "text": [
      "    Age  Occupation  Outcome Result\n",
      "2    37  industrial  default   Pass\n",
      "5    29  industrial  default   Pass\n",
      "8    30  industrial   repaid   Fail\n",
      "9    30  industrial  default   Pass\n",
      "13   39  industrial  default   Pass\n",
      "14   32  industrial  default   Pass\n",
      "18   21  industrial  default   Pass\n",
      "24   35  industrial  default   Pass\n"
     ]
    }
   ],
   "source": [
    "# TestCase 3: Selecting rows where Occupation is 'industrial' and Age is less than or equal to 40\n",
    "Testcase3 = feature_selection = feature[(feature[\"Occupation\"] == 'industrial') & (feature[\"Age\"] <= 40)][[\"Age\", \"Occupation\", \"Outcome\"]]\n",
    "\n",
    "# Adding a 'Result' column which says 'Pass' if Outcome is 'default', otherwise 'Fail'\n",
    "Testcase3[\"Result\"] = Testcase3[\"Outcome\"].apply(lambda x: 'Pass' if x == 'default' else 'Fail')\n",
    "\n",
    "# Displaying the result\n",
    "print(Testcase3)\n"
   ]
  },
  {
   "cell_type": "markdown",
   "id": "ff32f357-c387-4749-9bee-dc4598827e92",
   "metadata": {},
   "source": [
    "# Model 3 Result Analysis\n",
    "Model 3 Result Analysis\n",
    "\n",
    "Based on the data and test results, both Model 1 and Model 2 perform well in testing using features like the Loan-Salary Ratio for the target value. However, Model 3 seems to perform worse when the extra conditional feature is added. As you can see in my analysis, we can conclude that Model 1 will perform better overall compared to Model 2.\n",
    "overall model2 might be considerd better if you're aiming for a model that incorprate  more real world factios like age, occupation. "
   ]
  },
  {
   "cell_type": "markdown",
   "id": "c19d0508-7e28-4e0b-8123-567b29edf9c1",
   "metadata": {},
   "source": [
    "# Quation 4 \n",
    "Classification or Regression "
   ]
  },
  {
   "cell_type": "markdown",
   "id": "abbd817f-65ab-4f25-8ca0-6b69ca7ba4d2",
   "metadata": {},
   "source": [
    "both m1 and m2 are classification model because they both predict discrete labels which are default or repaid so they is no continous output being predicted. "
   ]
  },
  {
   "cell_type": "markdown",
   "id": "0d4dbff7-c368-492f-aef3-c8b2dec78cf8",
   "metadata": {},
   "source": [
    "Scenario 1:\n",
    "\n",
    "    We collect a set of data on the top 500 firms in the US. For each firm, we record profit, number of employees, industry, and the CEO salary. We are interested in understanding which factors affect CEO salary.\n",
    "\n",
    "    Target Variable: CEO salary (a continuous numerical value).\n",
    "    why : This is a regression problem because you are trying to predict the CEO's salary, which is a continuous variable, based on factors like profit, number of employees, and industry.\n",
    "\n",
    "Scenario 2:\n",
    "\n",
    "    We are considering launching a new product and wish to know whether it will be a success or a failure. We collect data on 20 similar products that were previously launched. For each product, we have recorded whether it was a success or failure, price charged for the product, marketing budget, competition price, and ten other variables.\n",
    "\n",
    "    Target Variable: Success or failure (a categorical value with two possible outcomes).\n",
    "    why: This is a classification problem because the goal is to predict whether a new product will be a \"success\" or \"failure,\" which are distinct categories.\n",
    "\n"
   ]
  },
  {
   "cell_type": "code",
   "execution_count": null,
   "id": "df6dceaf-66c9-4326-9919-8cda33b04cb0",
   "metadata": {},
   "outputs": [],
   "source": []
  }
 ],
 "metadata": {
  "kernelspec": {
   "display_name": "Python 3 (ipykernel)",
   "language": "python",
   "name": "python3"
  },
  "language_info": {
   "codemirror_mode": {
    "name": "ipython",
    "version": 3
   },
   "file_extension": ".py",
   "mimetype": "text/x-python",
   "name": "python",
   "nbconvert_exporter": "python",
   "pygments_lexer": "ipython3",
   "version": "3.12.3"
  }
 },
 "nbformat": 4,
 "nbformat_minor": 5
}
