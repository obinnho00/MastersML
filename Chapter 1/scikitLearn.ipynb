{
 "cells": [
  {
   "cell_type": "markdown",
   "id": "8639a75a-75a1-4885-8c21-44dff8ce8c5a",
   "metadata": {},
   "source": [
    "# Getting Started with scikit-learn "
   ]
  },
  {
   "cell_type": "code",
   "execution_count": null,
   "id": "4636835a-5698-4ad1-9ee9-c6e72dbad7b0",
   "metadata": {},
   "outputs": [],
   "source": [
    "# scikit-learn is an open asource python liberary that support supervised and unsupervised learning\n",
    "# this python libera also povide somany built in tools for ML model fitting, data preprocessing , model selection,\n",
    "# model evalution  etc "
   ]
  },
  {
   "cell_type": "code",
   "execution_count": null,
   "id": "96234606-13db-4b26-8bce-938dda434cb4",
   "metadata": {},
   "outputs": [],
   "source": [
    "# the scikit-learn provied a built-in macine learning algorithms and model call \n",
    "# estimatiors.\n",
    "    # estimators are objects or functions used to learn from data, specifically, mthey are methods that implemnt the macine learning algerithms"
   ]
  },
  {
   "cell_type": "markdown",
   "id": "2c06c253-2caf-4448-8278-386dee1caf1d",
   "metadata": {},
   "source": [
    "# learning "
   ]
  },
  {
   "cell_type": "code",
   "execution_count": null,
   "id": "70effc3a-49d5-412e-8053-80f9b6638f56",
   "metadata": {},
   "outputs": [],
   "source": [
    "# fit(): this ethod is used to train the estimator on a data, and it adjust the internal parameters of the model based on the traning data\n",
    "# predic(): this methods is used to make prediction based on the data it was  trained on after the  estimator has been fitted "
   ]
  },
  {
   "cell_type": "code",
   "execution_count": null,
   "id": "5d31228f-c9fd-4aee-b99d-6198b11363d0",
   "metadata": {},
   "outputs": [],
   "source": [
    "from sklearn.\n"
   ]
  }
 ],
 "metadata": {
  "kernelspec": {
   "display_name": "Python 3 (ipykernel)",
   "language": "python",
   "name": "python3"
  },
  "language_info": {
   "codemirror_mode": {
    "name": "ipython",
    "version": 3
   },
   "file_extension": ".py",
   "mimetype": "text/x-python",
   "name": "python",
   "nbconvert_exporter": "python",
   "pygments_lexer": "ipython3",
   "version": "3.11.7"
  }
 },
 "nbformat": 4,
 "nbformat_minor": 5
}
