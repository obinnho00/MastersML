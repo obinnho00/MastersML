{
 "cells": [
  {
   "cell_type": "markdown",
   "id": "abeae744-c8cd-46a4-b0b7-48507ba45db8",
   "metadata": {},
   "source": [
    "# Maping Note Understanding "
   ]
  },
  {
   "cell_type": "markdown",
   "id": "19ca358d-d502-4cb2-b5d2-202508a3e2bf",
   "metadata": {},
   "source": [
    "mapping:\n",
    "    feature mapping in Ml is a technique in data anaysis and ml to transformed input data to\n",
    "    from a lower-dimensional space to a higher-dimention space where it can easly be more ananlyzed or classified.\n",
    "\n",
    "    "
   ]
  },
  {
   "cell_type": "markdown",
   "id": "6f5323a3-4c82-40af-9716-16a3247f5ffa",
   "metadata": {},
   "source": [
    "# Techniques for feature maping \n"
   ]
  },
  {
   "cell_type": "markdown",
   "id": "ed5e8242-461e-46cd-ab9b-48eea3db056d",
   "metadata": {},
   "source": [
    "Feature extractions: \n",
    "this involves transforming the input data into a new set of features that capture the most significant \n",
    "and important information on a data set.\n",
    "    Example in image process, edges, corners and textures can be extracted from the images"
   ]
  },
  {
   "cell_type": "code",
   "execution_count": 15,
   "id": "38a7c75c-1db6-4668-96ce-97bcd1b68d04",
   "metadata": {},
   "outputs": [],
   "source": [
    "# this here is an emaple of future extraction in image processing \n",
    "import numpy as np # for numeric valuses \n",
    "import pandas as pd # for data processing \n",
    "from sklearn import preprocessing \n",
    "# the sklearn.preprosessing package provides serveral common \n",
    "# utinlity function and informationer classes to chamge "
   ]
  },
  {
   "cell_type": "code",
   "execution_count": null,
   "id": "48960e63-2486-41f3-ae70-6b3af3864a6a",
   "metadata": {},
   "outputs": [],
   "source": []
  }
 ],
 "metadata": {
  "kernelspec": {
   "display_name": "Python 3 (ipykernel)",
   "language": "python",
   "name": "python3"
  },
  "language_info": {
   "codemirror_mode": {
    "name": "ipython",
    "version": 3
   },
   "file_extension": ".py",
   "mimetype": "text/x-python",
   "name": "python",
   "nbconvert_exporter": "python",
   "pygments_lexer": "ipython3",
   "version": "3.11.7"
  }
 },
 "nbformat": 4,
 "nbformat_minor": 5
}
